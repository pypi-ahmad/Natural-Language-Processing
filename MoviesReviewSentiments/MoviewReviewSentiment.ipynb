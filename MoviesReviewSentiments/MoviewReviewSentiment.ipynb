{
  "nbformat": 4,
  "nbformat_minor": 0,
  "metadata": {
    "colab": {
      "name": "MoviewReviewSentiment.ipynb",
      "provenance": []
    },
    "kernelspec": {
      "name": "python3",
      "display_name": "Python 3"
    },
    "language_info": {
      "name": "python"
    }
  },
  "cells": [
    {
      "cell_type": "markdown",
      "metadata": {
        "id": "p9J-nkevmtP7"
      },
      "source": [
        "#Movie Reviews Sentiment Analysis "
      ]
    },
    {
      "cell_type": "code",
      "metadata": {
        "id": "vlTBn90ouzKo"
      },
      "source": [
        "#importing pandas and numpy libraries\n",
        "import numpy as np\n",
        "import pandas as pd "
      ],
      "execution_count": null,
      "outputs": []
    },
    {
      "cell_type": "code",
      "metadata": {
        "colab": {
          "base_uri": "https://localhost:8080/",
          "height": 204
        },
        "id": "YHX4N2Pvmue1",
        "outputId": "26143d45-3feb-470f-8a8b-24d9cdc6f6cc"
      },
      "source": [
        "#Loading the data from csv file\n",
        "data = pd.read_csv('IMDB-Dataset.csv')\n",
        "data.head()"
      ],
      "execution_count": null,
      "outputs": [
        {
          "output_type": "execute_result",
          "data": {
            "text/html": [
              "<div>\n",
              "<style scoped>\n",
              "    .dataframe tbody tr th:only-of-type {\n",
              "        vertical-align: middle;\n",
              "    }\n",
              "\n",
              "    .dataframe tbody tr th {\n",
              "        vertical-align: top;\n",
              "    }\n",
              "\n",
              "    .dataframe thead th {\n",
              "        text-align: right;\n",
              "    }\n",
              "</style>\n",
              "<table border=\"1\" class=\"dataframe\">\n",
              "  <thead>\n",
              "    <tr style=\"text-align: right;\">\n",
              "      <th></th>\n",
              "      <th>review</th>\n",
              "      <th>sentiment</th>\n",
              "    </tr>\n",
              "  </thead>\n",
              "  <tbody>\n",
              "    <tr>\n",
              "      <th>0</th>\n",
              "      <td>One of the other reviewers has mentioned that ...</td>\n",
              "      <td>positive</td>\n",
              "    </tr>\n",
              "    <tr>\n",
              "      <th>1</th>\n",
              "      <td>A wonderful little production. &lt;br /&gt;&lt;br /&gt;The...</td>\n",
              "      <td>positive</td>\n",
              "    </tr>\n",
              "    <tr>\n",
              "      <th>2</th>\n",
              "      <td>I thought this was a wonderful way to spend ti...</td>\n",
              "      <td>positive</td>\n",
              "    </tr>\n",
              "    <tr>\n",
              "      <th>3</th>\n",
              "      <td>Basically there's a family where a little boy ...</td>\n",
              "      <td>negative</td>\n",
              "    </tr>\n",
              "    <tr>\n",
              "      <th>4</th>\n",
              "      <td>Petter Mattei's \"Love in the Time of Money\" is...</td>\n",
              "      <td>positive</td>\n",
              "    </tr>\n",
              "  </tbody>\n",
              "</table>\n",
              "</div>"
            ],
            "text/plain": [
              "                                              review sentiment\n",
              "0  One of the other reviewers has mentioned that ...  positive\n",
              "1  A wonderful little production. <br /><br />The...  positive\n",
              "2  I thought this was a wonderful way to spend ti...  positive\n",
              "3  Basically there's a family where a little boy ...  negative\n",
              "4  Petter Mattei's \"Love in the Time of Money\" is...  positive"
            ]
          },
          "metadata": {
            "tags": []
          },
          "execution_count": 113
        }
      ]
    },
    {
      "cell_type": "code",
      "metadata": {
        "colab": {
          "base_uri": "https://localhost:8080/"
        },
        "id": "qPXsW3NXnJsv",
        "outputId": "c97aa072-f772-4f53-950d-2203514ea154"
      },
      "source": [
        "#Displaying the columns in the data\n",
        "data.info()"
      ],
      "execution_count": null,
      "outputs": [
        {
          "output_type": "stream",
          "text": [
            "<class 'pandas.core.frame.DataFrame'>\n",
            "RangeIndex: 50000 entries, 0 to 49999\n",
            "Data columns (total 2 columns):\n",
            " #   Column     Non-Null Count  Dtype \n",
            "---  ------     --------------  ----- \n",
            " 0   review     50000 non-null  object\n",
            " 1   sentiment  50000 non-null  object\n",
            "dtypes: object(2)\n",
            "memory usage: 781.4+ KB\n"
          ],
          "name": "stdout"
        }
      ]
    },
    {
      "cell_type": "code",
      "metadata": {
        "colab": {
          "base_uri": "https://localhost:8080/"
        },
        "id": "Iun6ymJDnKXi",
        "outputId": "b178f341-f000-4197-bc26-8f50e4ba370c"
      },
      "source": [
        "#Displaying the unique values in the sentiment columns\n",
        "data[\"sentiment\"].value_counts()"
      ],
      "execution_count": null,
      "outputs": [
        {
          "output_type": "execute_result",
          "data": {
            "text/plain": [
              "negative    25000\n",
              "positive    25000\n",
              "Name: sentiment, dtype: int64"
            ]
          },
          "metadata": {
            "tags": []
          },
          "execution_count": 115
        }
      ]
    },
    {
      "cell_type": "code",
      "metadata": {
        "colab": {
          "base_uri": "https://localhost:8080/",
          "height": 359
        },
        "id": "1xpiPDyEnOtH",
        "outputId": "ac2f55a8-4b2b-4a7f-f4bc-e21e7ab94c1a"
      },
      "source": [
        "#replacing the sentiments of positive and negative with 0 and 1\n",
        "data[\"sentiment\"].replace('positive',1,inplace=True)\n",
        "data[\"sentiment\"].replace('negative',0,inplace=True)\n",
        "data.head(10)"
      ],
      "execution_count": null,
      "outputs": [
        {
          "output_type": "execute_result",
          "data": {
            "text/html": [
              "<div>\n",
              "<style scoped>\n",
              "    .dataframe tbody tr th:only-of-type {\n",
              "        vertical-align: middle;\n",
              "    }\n",
              "\n",
              "    .dataframe tbody tr th {\n",
              "        vertical-align: top;\n",
              "    }\n",
              "\n",
              "    .dataframe thead th {\n",
              "        text-align: right;\n",
              "    }\n",
              "</style>\n",
              "<table border=\"1\" class=\"dataframe\">\n",
              "  <thead>\n",
              "    <tr style=\"text-align: right;\">\n",
              "      <th></th>\n",
              "      <th>review</th>\n",
              "      <th>sentiment</th>\n",
              "    </tr>\n",
              "  </thead>\n",
              "  <tbody>\n",
              "    <tr>\n",
              "      <th>0</th>\n",
              "      <td>One of the other reviewers has mentioned that ...</td>\n",
              "      <td>1</td>\n",
              "    </tr>\n",
              "    <tr>\n",
              "      <th>1</th>\n",
              "      <td>A wonderful little production. &lt;br /&gt;&lt;br /&gt;The...</td>\n",
              "      <td>1</td>\n",
              "    </tr>\n",
              "    <tr>\n",
              "      <th>2</th>\n",
              "      <td>I thought this was a wonderful way to spend ti...</td>\n",
              "      <td>1</td>\n",
              "    </tr>\n",
              "    <tr>\n",
              "      <th>3</th>\n",
              "      <td>Basically there's a family where a little boy ...</td>\n",
              "      <td>0</td>\n",
              "    </tr>\n",
              "    <tr>\n",
              "      <th>4</th>\n",
              "      <td>Petter Mattei's \"Love in the Time of Money\" is...</td>\n",
              "      <td>1</td>\n",
              "    </tr>\n",
              "    <tr>\n",
              "      <th>5</th>\n",
              "      <td>Probably my all-time favorite movie, a story o...</td>\n",
              "      <td>1</td>\n",
              "    </tr>\n",
              "    <tr>\n",
              "      <th>6</th>\n",
              "      <td>I sure would like to see a resurrection of a u...</td>\n",
              "      <td>1</td>\n",
              "    </tr>\n",
              "    <tr>\n",
              "      <th>7</th>\n",
              "      <td>This show was an amazing, fresh &amp; innovative i...</td>\n",
              "      <td>0</td>\n",
              "    </tr>\n",
              "    <tr>\n",
              "      <th>8</th>\n",
              "      <td>Encouraged by the positive comments about this...</td>\n",
              "      <td>0</td>\n",
              "    </tr>\n",
              "    <tr>\n",
              "      <th>9</th>\n",
              "      <td>If you like original gut wrenching laughter yo...</td>\n",
              "      <td>1</td>\n",
              "    </tr>\n",
              "  </tbody>\n",
              "</table>\n",
              "</div>"
            ],
            "text/plain": [
              "                                              review  sentiment\n",
              "0  One of the other reviewers has mentioned that ...          1\n",
              "1  A wonderful little production. <br /><br />The...          1\n",
              "2  I thought this was a wonderful way to spend ti...          1\n",
              "3  Basically there's a family where a little boy ...          0\n",
              "4  Petter Mattei's \"Love in the Time of Money\" is...          1\n",
              "5  Probably my all-time favorite movie, a story o...          1\n",
              "6  I sure would like to see a resurrection of a u...          1\n",
              "7  This show was an amazing, fresh & innovative i...          0\n",
              "8  Encouraged by the positive comments about this...          0\n",
              "9  If you like original gut wrenching laughter yo...          1"
            ]
          },
          "metadata": {
            "tags": []
          },
          "execution_count": 116
        }
      ]
    },
    {
      "cell_type": "code",
      "metadata": {
        "colab": {
          "base_uri": "https://localhost:8080/",
          "height": 171
        },
        "id": "DBxHVOm5nSSt",
        "outputId": "cd77246b-f894-44a4-841d-05c6cc060fa9"
      },
      "source": [
        "#Checking one of the review for sample\n",
        "data.review[0]"
      ],
      "execution_count": null,
      "outputs": [
        {
          "output_type": "execute_result",
          "data": {
            "application/vnd.google.colaboratory.intrinsic+json": {
              "type": "string"
            },
            "text/plain": [
              "\"One of the other reviewers has mentioned that after watching just 1 Oz episode you'll be hooked. They are right, as this is exactly what happened with me.<br /><br />The first thing that struck me about Oz was its brutality and unflinching scenes of violence, which set in right from the word GO. Trust me, this is not a show for the faint hearted or timid. This show pulls no punches with regards to drugs, sex or violence. Its is hardcore, in the classic use of the word.<br /><br />It is called OZ as that is the nickname given to the Oswald Maximum Security State Penitentary. It focuses mainly on Emerald City, an experimental section of the prison where all the cells have glass fronts and face inwards, so privacy is not high on the agenda. Em City is home to many..Aryans, Muslims, gangstas, Latinos, Christians, Italians, Irish and more....so scuffles, death stares, dodgy dealings and shady agreements are never far away.<br /><br />I would say the main appeal of the show is due to the fact that it goes where other shows wouldn't dare. Forget pretty pictures painted for mainstream audiences, forget charm, forget romance...OZ doesn't mess around. The first episode I ever saw struck me as so nasty it was surreal, I couldn't say I was ready for it, but as I watched more, I developed a taste for Oz, and got accustomed to the high levels of graphic violence. Not just violence, but injustice (crooked guards who'll be sold out for a nickel, inmates who'll kill on order and get away with it, well mannered, middle class inmates being turned into prison bitches due to their lack of street skills or prison experience) Watching Oz, you may become comfortable with what is uncomfortable viewing....thats if you can get in touch with your darker side.\""
            ]
          },
          "metadata": {
            "tags": []
          },
          "execution_count": 117
        }
      ]
    },
    {
      "cell_type": "code",
      "metadata": {
        "id": "-4KypO73nU4I"
      },
      "source": [
        "#importing re\n",
        "import re \n",
        "#defining function to remove special characters from the text\n",
        "def clean_text(text):\n",
        "    clean = re.compile(r'<.*?>')\n",
        "    return re.sub(clean,'',text)"
      ],
      "execution_count": null,
      "outputs": []
    },
    {
      "cell_type": "code",
      "metadata": {
        "colab": {
          "base_uri": "https://localhost:8080/",
          "height": 171
        },
        "id": "Ay_3RgPRwMyg",
        "outputId": "4ed67bd7-8ca5-4922-b91b-9123aafcfddf"
      },
      "source": [
        "#Cleaning the text in the review column\n",
        "data[\"review\"] = data[\"review\"].apply(clean_text)\n",
        "data[\"review\"][0]"
      ],
      "execution_count": null,
      "outputs": [
        {
          "output_type": "execute_result",
          "data": {
            "application/vnd.google.colaboratory.intrinsic+json": {
              "type": "string"
            },
            "text/plain": [
              "\"One of the other reviewers has mentioned that after watching just 1 Oz episode you'll be hooked. They are right, as this is exactly what happened with me.The first thing that struck me about Oz was its brutality and unflinching scenes of violence, which set in right from the word GO. Trust me, this is not a show for the faint hearted or timid. This show pulls no punches with regards to drugs, sex or violence. Its is hardcore, in the classic use of the word.It is called OZ as that is the nickname given to the Oswald Maximum Security State Penitentary. It focuses mainly on Emerald City, an experimental section of the prison where all the cells have glass fronts and face inwards, so privacy is not high on the agenda. Em City is home to many..Aryans, Muslims, gangstas, Latinos, Christians, Italians, Irish and more....so scuffles, death stares, dodgy dealings and shady agreements are never far away.I would say the main appeal of the show is due to the fact that it goes where other shows wouldn't dare. Forget pretty pictures painted for mainstream audiences, forget charm, forget romance...OZ doesn't mess around. The first episode I ever saw struck me as so nasty it was surreal, I couldn't say I was ready for it, but as I watched more, I developed a taste for Oz, and got accustomed to the high levels of graphic violence. Not just violence, but injustice (crooked guards who'll be sold out for a nickel, inmates who'll kill on order and get away with it, well mannered, middle class inmates being turned into prison bitches due to their lack of street skills or prison experience) Watching Oz, you may become comfortable with what is uncomfortable viewing....thats if you can get in touch with your darker side.\""
            ]
          },
          "metadata": {
            "tags": []
          },
          "execution_count": 119
        }
      ]
    },
    {
      "cell_type": "code",
      "metadata": {
        "id": "gQpgaHkinb2P"
      },
      "source": [
        "#Defining a function to filter the special characters\n",
        "def is_special(text):\n",
        "    temp = ''\n",
        "    for i in text:\n",
        "        if i.isalnum():\n",
        "            temp = temp + i\n",
        "        else:\n",
        "            temp = temp + ' '\n",
        "    return temp"
      ],
      "execution_count": null,
      "outputs": []
    },
    {
      "cell_type": "code",
      "metadata": {
        "colab": {
          "base_uri": "https://localhost:8080/",
          "height": 171
        },
        "id": "-SRMZxBPw4i9",
        "outputId": "e4699e58-7ec1-413d-d3e6-7cec95cd30cc"
      },
      "source": [
        "#Applying is_special function on top of review text data\n",
        "data[\"review\"] = data[\"review\"].apply(is_special)\n",
        "data[\"review\"][0]"
      ],
      "execution_count": null,
      "outputs": [
        {
          "output_type": "execute_result",
          "data": {
            "application/vnd.google.colaboratory.intrinsic+json": {
              "type": "string"
            },
            "text/plain": [
              "'One of the other reviewers has mentioned that after watching just 1 Oz episode you ll be hooked  They are right  as this is exactly what happened with me The first thing that struck me about Oz was its brutality and unflinching scenes of violence  which set in right from the word GO  Trust me  this is not a show for the faint hearted or timid  This show pulls no punches with regards to drugs  sex or violence  Its is hardcore  in the classic use of the word It is called OZ as that is the nickname given to the Oswald Maximum Security State Penitentary  It focuses mainly on Emerald City  an experimental section of the prison where all the cells have glass fronts and face inwards  so privacy is not high on the agenda  Em City is home to many  Aryans  Muslims  gangstas  Latinos  Christians  Italians  Irish and more    so scuffles  death stares  dodgy dealings and shady agreements are never far away I would say the main appeal of the show is due to the fact that it goes where other shows wouldn t dare  Forget pretty pictures painted for mainstream audiences  forget charm  forget romance   OZ doesn t mess around  The first episode I ever saw struck me as so nasty it was surreal  I couldn t say I was ready for it  but as I watched more  I developed a taste for Oz  and got accustomed to the high levels of graphic violence  Not just violence  but injustice  crooked guards who ll be sold out for a nickel  inmates who ll kill on order and get away with it  well mannered  middle class inmates being turned into prison bitches due to their lack of street skills or prison experience  Watching Oz  you may become comfortable with what is uncomfortable viewing    thats if you can get in touch with your darker side '"
            ]
          },
          "metadata": {
            "tags": []
          },
          "execution_count": 121
        }
      ]
    },
    {
      "cell_type": "code",
      "metadata": {
        "id": "GPZLzsoWne4a"
      },
      "source": [
        "#Defining a function to return the text in lower case\n",
        "def to_lower(text):\n",
        "    return text.lower()"
      ],
      "execution_count": null,
      "outputs": []
    },
    {
      "cell_type": "code",
      "metadata": {
        "colab": {
          "base_uri": "https://localhost:8080/",
          "height": 171
        },
        "id": "aICznz1Ix4Tu",
        "outputId": "6a9662ac-912a-4263-a001-c85f653d6130"
      },
      "source": [
        "#Lowering the case of the text using above function\n",
        "data[\"review\"] = data[\"review\"].apply(to_lower)\n",
        "data[\"review\"][0]"
      ],
      "execution_count": null,
      "outputs": [
        {
          "output_type": "execute_result",
          "data": {
            "application/vnd.google.colaboratory.intrinsic+json": {
              "type": "string"
            },
            "text/plain": [
              "'one of the other reviewers has mentioned that after watching just 1 oz episode you ll be hooked  they are right  as this is exactly what happened with me the first thing that struck me about oz was its brutality and unflinching scenes of violence  which set in right from the word go  trust me  this is not a show for the faint hearted or timid  this show pulls no punches with regards to drugs  sex or violence  its is hardcore  in the classic use of the word it is called oz as that is the nickname given to the oswald maximum security state penitentary  it focuses mainly on emerald city  an experimental section of the prison where all the cells have glass fronts and face inwards  so privacy is not high on the agenda  em city is home to many  aryans  muslims  gangstas  latinos  christians  italians  irish and more    so scuffles  death stares  dodgy dealings and shady agreements are never far away i would say the main appeal of the show is due to the fact that it goes where other shows wouldn t dare  forget pretty pictures painted for mainstream audiences  forget charm  forget romance   oz doesn t mess around  the first episode i ever saw struck me as so nasty it was surreal  i couldn t say i was ready for it  but as i watched more  i developed a taste for oz  and got accustomed to the high levels of graphic violence  not just violence  but injustice  crooked guards who ll be sold out for a nickel  inmates who ll kill on order and get away with it  well mannered  middle class inmates being turned into prison bitches due to their lack of street skills or prison experience  watching oz  you may become comfortable with what is uncomfortable viewing    thats if you can get in touch with your darker side '"
            ]
          },
          "metadata": {
            "tags": []
          },
          "execution_count": 123
        }
      ]
    },
    {
      "cell_type": "code",
      "metadata": {
        "colab": {
          "base_uri": "https://localhost:8080/"
        },
        "id": "1sb2wpKlnhip",
        "outputId": "7f06430c-202c-4149-b674-44197e1e82a9"
      },
      "source": [
        "#Importing NLTK library\n",
        "import nltk\n",
        "from nltk.corpus import stopwords\n",
        "from nltk.tokenize import word_tokenize\n",
        "from nltk.stem import SnowballStemmer\n",
        "nltk.download('stopwords')\n",
        "nltk.download('punkt')"
      ],
      "execution_count": null,
      "outputs": [
        {
          "output_type": "stream",
          "text": [
            "[nltk_data] Downloading package stopwords to /root/nltk_data...\n",
            "[nltk_data]   Package stopwords is already up-to-date!\n",
            "[nltk_data] Downloading package punkt to /root/nltk_data...\n",
            "[nltk_data]   Package punkt is already up-to-date!\n"
          ],
          "name": "stdout"
        },
        {
          "output_type": "execute_result",
          "data": {
            "text/plain": [
              "True"
            ]
          },
          "metadata": {
            "tags": []
          },
          "execution_count": 107
        }
      ]
    },
    {
      "cell_type": "code",
      "metadata": {
        "colab": {
          "base_uri": "https://localhost:8080/"
        },
        "id": "6rhinWYYyMQW",
        "outputId": "6dc1076e-827f-45c4-ea4f-62ce0e3bfb86"
      },
      "source": [
        "#Defining function to remove stopwords from data\n",
        "def rem_stopwords(text):\n",
        "    stop_words = set(stopwords.words('english'))\n",
        "    words = word_tokenize(text)\n",
        "    return [w for w in words if w not in stop_words]\n",
        "\n",
        "data[\"review\"]= data[\"review\"].apply(rem_stopwords)\n",
        "data[\"review\"][0]"
      ],
      "execution_count": null,
      "outputs": [
        {
          "output_type": "execute_result",
          "data": {
            "text/plain": [
              "['one',\n",
              " 'review',\n",
              " 'mention',\n",
              " 'watch',\n",
              " '1',\n",
              " 'oz',\n",
              " 'episod',\n",
              " 'hook',\n",
              " 'right',\n",
              " 'exact',\n",
              " 'happen',\n",
              " 'first',\n",
              " 'thing',\n",
              " 'struck',\n",
              " 'oz',\n",
              " 'brutal',\n",
              " 'unflinch',\n",
              " 'scene',\n",
              " 'violenc',\n",
              " 'set',\n",
              " 'right',\n",
              " 'word',\n",
              " 'go',\n",
              " 'trust',\n",
              " 'show',\n",
              " 'faint',\n",
              " 'heart',\n",
              " 'timid',\n",
              " 'show',\n",
              " 'pull',\n",
              " 'punch',\n",
              " 'regard',\n",
              " 'drug',\n",
              " 'sex',\n",
              " 'violenc',\n",
              " 'hardcor',\n",
              " 'classic',\n",
              " 'use',\n",
              " 'word',\n",
              " 'call',\n",
              " 'oz',\n",
              " 'nicknam',\n",
              " 'given',\n",
              " 'oswald',\n",
              " 'maximum',\n",
              " 'secur',\n",
              " 'state',\n",
              " 'penitentari',\n",
              " 'focus',\n",
              " 'main',\n",
              " 'emerald',\n",
              " 'citi',\n",
              " 'experiment',\n",
              " 'section',\n",
              " 'prison',\n",
              " 'cell',\n",
              " 'glass',\n",
              " 'front',\n",
              " 'face',\n",
              " 'inward',\n",
              " 'privaci',\n",
              " 'high',\n",
              " 'agenda',\n",
              " 'em',\n",
              " 'citi',\n",
              " 'home',\n",
              " 'mani',\n",
              " 'aryan',\n",
              " 'muslim',\n",
              " 'gangsta',\n",
              " 'latino',\n",
              " 'christian',\n",
              " 'italian',\n",
              " 'irish',\n",
              " 'scuffl',\n",
              " 'death',\n",
              " 'stare',\n",
              " 'dodgi',\n",
              " 'deal',\n",
              " 'shadi',\n",
              " 'agreement',\n",
              " 'never',\n",
              " 'far',\n",
              " 'away',\n",
              " 'would',\n",
              " 'say',\n",
              " 'main',\n",
              " 'appeal',\n",
              " 'show',\n",
              " 'due',\n",
              " 'fact',\n",
              " 'goe',\n",
              " 'show',\n",
              " 'dare',\n",
              " 'forget',\n",
              " 'pretti',\n",
              " 'pictur',\n",
              " 'paint',\n",
              " 'mainstream',\n",
              " 'audienc',\n",
              " 'forget',\n",
              " 'charm',\n",
              " 'forget',\n",
              " 'romanc',\n",
              " 'oz',\n",
              " 'mess',\n",
              " 'around',\n",
              " 'first',\n",
              " 'episod',\n",
              " 'ever',\n",
              " 'saw',\n",
              " 'struck',\n",
              " 'nasti',\n",
              " 'surreal',\n",
              " 'say',\n",
              " 'readi',\n",
              " 'watch',\n",
              " 'develop',\n",
              " 'tast',\n",
              " 'oz',\n",
              " 'got',\n",
              " 'accustom',\n",
              " 'high',\n",
              " 'level',\n",
              " 'graphic',\n",
              " 'violenc',\n",
              " 'violenc',\n",
              " 'injustic',\n",
              " 'crook',\n",
              " 'guard',\n",
              " 'sold',\n",
              " 'nickel',\n",
              " 'inmat',\n",
              " 'kill',\n",
              " 'order',\n",
              " 'get',\n",
              " 'away',\n",
              " 'well',\n",
              " 'manner',\n",
              " 'middl',\n",
              " 'class',\n",
              " 'inmat',\n",
              " 'turn',\n",
              " 'prison',\n",
              " 'bitch',\n",
              " 'due',\n",
              " 'lack',\n",
              " 'street',\n",
              " 'skill',\n",
              " 'prison',\n",
              " 'experi',\n",
              " 'watch',\n",
              " 'oz',\n",
              " 'may',\n",
              " 'becom',\n",
              " 'comfort',\n",
              " 'uncomfort',\n",
              " 'view',\n",
              " 'get',\n",
              " 'touch',\n",
              " 'darker',\n",
              " 'side']"
            ]
          },
          "metadata": {
            "tags": []
          },
          "execution_count": 146
        }
      ]
    },
    {
      "cell_type": "code",
      "metadata": {
        "id": "b_vTZ6OVnkhh"
      },
      "source": [
        "#Stemming the text\n",
        "def stem_text(text):\n",
        "    ss = SnowballStemmer('english')\n",
        "    return \" \".join([ss.stem(w) for w in text])"
      ],
      "execution_count": null,
      "outputs": []
    },
    {
      "cell_type": "code",
      "metadata": {
        "colab": {
          "base_uri": "https://localhost:8080/",
          "height": 171
        },
        "id": "IjYZKhHy1em4",
        "outputId": "35edb5af-e27e-4df0-cf9d-347d30aaf22e"
      },
      "source": [
        "#Stemming the text using ste_text function\n",
        "data[\"review\"] = data[\"review\"].apply(stem_text)\n",
        "data[\"review\"][0]"
      ],
      "execution_count": null,
      "outputs": [
        {
          "output_type": "execute_result",
          "data": {
            "application/vnd.google.colaboratory.intrinsic+json": {
              "type": "string"
            },
            "text/plain": [
              "'one review mention watch 1 oz episod hook right exact happen first thing struck oz brutal unflinch scene violenc set right word go trust show faint heart timid show pull punch regard drug sex violenc hardcor classic use word call oz nicknam given oswald maximum secur state penitentari focus main emerald citi experiment section prison cell glass front face inward privaci high agenda em citi home mani aryan muslim gangsta latino christian italian irish scuffl death stare dodgi deal shadi agreement never far away would say main appeal show due fact goe show dare forget pretti pictur paint mainstream audienc forget charm forget romanc oz mess around first episod ever saw struck nasti surreal say readi watch develop tast oz got accustom high level graphic violenc violenc injustic crook guard sold nickel inmat kill order get away well manner middl class inmat turn prison bitch due lack street skill prison experi watch oz may becom comfort uncomfort view that get touch darker side'"
            ]
          },
          "metadata": {
            "tags": []
          },
          "execution_count": 127
        }
      ]
    },
    {
      "cell_type": "code",
      "metadata": {
        "colab": {
          "base_uri": "https://localhost:8080/",
          "height": 204
        },
        "id": "h12-DQTUnqtb",
        "outputId": "28b2200c-1640-427a-ae88-7f2b6e73b358"
      },
      "source": [
        "#Checking the fist 5 rows in a DataFrame\n",
        "data.head()"
      ],
      "execution_count": null,
      "outputs": [
        {
          "output_type": "execute_result",
          "data": {
            "text/html": [
              "<div>\n",
              "<style scoped>\n",
              "    .dataframe tbody tr th:only-of-type {\n",
              "        vertical-align: middle;\n",
              "    }\n",
              "\n",
              "    .dataframe tbody tr th {\n",
              "        vertical-align: top;\n",
              "    }\n",
              "\n",
              "    .dataframe thead th {\n",
              "        text-align: right;\n",
              "    }\n",
              "</style>\n",
              "<table border=\"1\" class=\"dataframe\">\n",
              "  <thead>\n",
              "    <tr style=\"text-align: right;\">\n",
              "      <th></th>\n",
              "      <th>review</th>\n",
              "      <th>sentiment</th>\n",
              "    </tr>\n",
              "  </thead>\n",
              "  <tbody>\n",
              "    <tr>\n",
              "      <th>0</th>\n",
              "      <td>one review mention watch 1 oz episod hook righ...</td>\n",
              "      <td>1</td>\n",
              "    </tr>\n",
              "    <tr>\n",
              "      <th>1</th>\n",
              "      <td>wonder littl product film techniqu unassum old...</td>\n",
              "      <td>1</td>\n",
              "    </tr>\n",
              "    <tr>\n",
              "      <th>2</th>\n",
              "      <td>thought wonder way spend time hot summer weeke...</td>\n",
              "      <td>1</td>\n",
              "    </tr>\n",
              "    <tr>\n",
              "      <th>3</th>\n",
              "      <td>basic famili littl boy jake think zombi closet...</td>\n",
              "      <td>0</td>\n",
              "    </tr>\n",
              "    <tr>\n",
              "      <th>4</th>\n",
              "      <td>petter mattei love time money visual stun film...</td>\n",
              "      <td>1</td>\n",
              "    </tr>\n",
              "  </tbody>\n",
              "</table>\n",
              "</div>"
            ],
            "text/plain": [
              "                                              review  sentiment\n",
              "0  one review mention watch 1 oz episod hook righ...          1\n",
              "1  wonder littl product film techniqu unassum old...          1\n",
              "2  thought wonder way spend time hot summer weeke...          1\n",
              "3  basic famili littl boy jake think zombi closet...          0\n",
              "4  petter mattei love time money visual stun film...          1"
            ]
          },
          "metadata": {
            "tags": []
          },
          "execution_count": 128
        }
      ]
    },
    {
      "cell_type": "code",
      "metadata": {
        "id": "W2eAzq3fkGPO"
      },
      "source": [
        "from sklearn.feature_extraction.text import CountVectorizer\n",
        "from sklearn.model_selection import train_test_split\n",
        "from sklearn.naive_bayes import GaussianNB,MultinomialNB,BernoulliNB\n",
        "from sklearn.metrics import accuracy_score\n",
        "import pickle"
      ],
      "execution_count": 1,
      "outputs": []
    },
    {
      "cell_type": "code",
      "metadata": {
        "id": "x9_fFooCnrAt"
      },
      "source": [
        "#Here we are creating the Bagging of words\n",
        "X = np.array(data.iloc[:,0].values)\n",
        "y = np.array(data[\"sentiment\"].values)\n",
        "counvec = CountVectorizer(max_features = 1000)\n",
        "X = counvec.fit_transform(data.review).toarray()"
      ],
      "execution_count": null,
      "outputs": []
    },
    {
      "cell_type": "code",
      "metadata": {
        "colab": {
          "base_uri": "https://localhost:8080/"
        },
        "id": "KseqFylinutO",
        "outputId": "3d27fae2-5222-400a-a332-3a9e4b392125"
      },
      "source": [
        "#Printing x matrix\n",
        "print(X)"
      ],
      "execution_count": null,
      "outputs": [
        {
          "output_type": "stream",
          "text": [
            "[[0 0 0 ... 0 0 0]\n",
            " [0 0 0 ... 0 0 0]\n",
            " [0 0 0 ... 0 1 0]\n",
            " ...\n",
            " [0 0 0 ... 0 0 0]\n",
            " [0 0 1 ... 0 0 0]\n",
            " [0 0 0 ... 0 0 0]]\n"
          ],
          "name": "stdout"
        }
      ]
    },
    {
      "cell_type": "code",
      "metadata": {
        "id": "FSSIDecUnxME"
      },
      "source": [
        "#Splitting the training vs test data using train test split\n",
        "trainx,testx,trainy,testy = train_test_split(X,y,test_size=0.2,random_state=9)"
      ],
      "execution_count": null,
      "outputs": []
    },
    {
      "cell_type": "code",
      "metadata": {
        "colab": {
          "base_uri": "https://localhost:8080/"
        },
        "id": "NFdMbhwO2-uz",
        "outputId": "e8f04421-e2ce-475b-f7ee-342af7630eaf"
      },
      "source": [
        "print(\"Train shapes : X = {}, y = {}\".format(trainx.shape,trainy.shape))\n",
        "print(\"Test shapes : X = {}, y = {}\".format(testx.shape,testy.shape))"
      ],
      "execution_count": null,
      "outputs": [
        {
          "output_type": "stream",
          "text": [
            "Train shapes : X = (40000, 1000), y = (40000,)\n",
            "Test shapes : X = (10000, 1000), y = (10000,)\n"
          ],
          "name": "stdout"
        }
      ]
    },
    {
      "cell_type": "code",
      "metadata": {
        "colab": {
          "base_uri": "https://localhost:8080/"
        },
        "id": "QIaOK9dJn0oH",
        "outputId": "e195fc63-2067-44e8-aa43-e7c7c8a3f633"
      },
      "source": [
        "#training the gaussian and bernoulli model\n",
        "gauss,bernou = GaussianNB(),BernoulliNB(alpha=1.0,fit_prior=True)\n",
        "gauss.fit(trainx,trainy)\n",
        "bernou.fit(trainx,trainy)"
      ],
      "execution_count": null,
      "outputs": [
        {
          "output_type": "execute_result",
          "data": {
            "text/plain": [
              "BernoulliNB(alpha=1.0, binarize=0.0, class_prior=None, fit_prior=True)"
            ]
          },
          "metadata": {
            "tags": []
          },
          "execution_count": 142
        }
      ]
    },
    {
      "cell_type": "code",
      "metadata": {
        "colab": {
          "base_uri": "https://localhost:8080/"
        },
        "id": "vOKyVVYrn6jq",
        "outputId": "99af45ab-bb25-4e74-cde7-6c829ad351ff"
      },
      "source": [
        "ypg = gauss.predict(testx)\n",
        "ypb = bernou.predict(testx)\n",
        "#Accuracy score for Gaussian and Bernoulli\n",
        "print(\"Gaussian Model = \",accuracy_score(testy,ypg))\n",
        "print(\"Bernoulli Model = \",accuracy_score(testy,ypb))"
      ],
      "execution_count": null,
      "outputs": [
        {
          "output_type": "stream",
          "text": [
            "Gaussian Model =  0.7843\n",
            "Bernoulli Model =  0.8386\n"
          ],
          "name": "stdout"
        }
      ]
    },
    {
      "cell_type": "code",
      "metadata": {
        "id": "p6i0bno7n_BC"
      },
      "source": [
        "#Dumping the brenoulli model to the pickle file\n",
        "pickle.dump(bernou,open('model1.pkl','wb'))"
      ],
      "execution_count": null,
      "outputs": []
    },
    {
      "cell_type": "code",
      "metadata": {
        "id": "jJ5ELyZLoIJy"
      },
      "source": [
        "#Testing the performance of the model\n",
        "rev =  \"\"\"Terrible. Complete trash. Brainless tripe. Insulting to anyone who isn't an 8 year old fan boy. Im actually pretty disgusted that this movie is making the money it is - what does it say about the people who brainlessly hand over the hard earned cash to be 'entertained' in this fashion and then come here to leave a positive 8.8 review?? Oh yes, they are morons. Its the only sensible conclusion to draw. How anyone can rate this movie amongst the pantheon of great titles is beyond me.\n",
        "\n",
        "So trying to find something constructive to say about this title is hard...I enjoyed Iron Man? Tony Stark is an inspirational character in his own movies but here he is a pale shadow of that...About the only 'hook' this movie had into me was wondering when and if Iron Man would knock Captain America out...Oh how I wished he had :( What were these other characters anyways? Useless, bickering idiots who really couldn't organise happy times in a brewery. The film was a chaotic mish mash of action elements and failed 'set pieces'...\n",
        "\n",
        "I found the villain to be quite amusing.\n",
        "\n",
        "And now I give up. This movie is not robbing any more of my time but I felt I ought to contribute to restoring the obvious fake rating and reviews this movie has been getting on IMDb.\"\"\"\n",
        "f1 = clean_text(rev)\n",
        "f2 = is_special(f1)\n",
        "f3 = to_lower(f2)\n",
        "f4 = rem_stopwords(f3)\n",
        "f5 = stem_text(f4)\n",
        "\n",
        "bow,words = [],word_tokenize(f5)\n",
        "for word in words:\n",
        "    bow.append(words.count(word))\n",
        "#np.array(bow).reshape(1,3000)\n",
        "#bow.shape\n",
        "word_dict = counvec.vocabulary_\n",
        "pickle.dump(word_dict,open('bow.pkl','wb'))"
      ],
      "execution_count": null,
      "outputs": []
    },
    {
      "cell_type": "code",
      "metadata": {
        "id": "RiBKbzaNoIcz"
      },
      "source": [
        "\n",
        "inp = []\n",
        "for i in word_dict:\n",
        "    inp.append(f5.count(i[0]))\n",
        "y_pred = bernou.predict(np.array(inp).reshape(1,1000))"
      ],
      "execution_count": null,
      "outputs": []
    },
    {
      "cell_type": "code",
      "metadata": {
        "colab": {
          "base_uri": "https://localhost:8080/"
        },
        "id": "lsnAyo5KoMuF",
        "outputId": "bc9cdc5d-06ff-4a17-9112-37fc0a14ce82"
      },
      "source": [
        "#The output () refers to the negative Sentiment\n",
        "y_pred"
      ],
      "execution_count": null,
      "outputs": [
        {
          "output_type": "execute_result",
          "data": {
            "text/plain": [
              "array([0])"
            ]
          },
          "metadata": {
            "tags": []
          },
          "execution_count": 155
        }
      ]
    },
    {
      "cell_type": "code",
      "metadata": {
        "id": "WJst7TpT6lxt"
      },
      "source": [
        "#Checking the model with unknown review\n",
        "review=\"\"\"One of the other reviewers has mentioned that after watching just 1 Oz episode you'll be hooked. They are right, as this is exactly what happened with me.<br /><br />The first thing that struck me about Oz was its brutality and unflinching scenes of violence, which set in right from the word GO. Trust me, this is not a show for the faint hearted or timid. This show pulls no punches with regards to drugs, sex or violence. Its is hardcore, in the classic use of the word.<br /><br />It is called OZ as that is the nickname given to the Oswald Maximum Security State Penitentary. It focuses mainly on Emerald City, an experimental section of the prison where all the cells have glass fronts and face inwards, so privacy is not high on the agenda. Em City is home to many..Aryans, Muslims, gangstas, Latinos, Christians, Italians, Irish and more....so scuffles, death stares, dodgy dealings and shady agreements are never far away.<br /><br />I would say the main appeal of the show is due to the fact that it goes where other shows wouldn't dare. Forget pretty pictures painted for mainstream audiences, forget charm, forget romance...OZ doesn't mess around. The first episode I ever saw struck me as so nasty it was surreal, I couldn't say I was ready for it, but as I watched more, I developed a taste for Oz, and got accustomed to the high levels of graphic violence. Not just violence, but injustice (crooked guards who'll be sold out for a nickel, inmates who'll kill on order and get away with it, well mannered, middle class inmates being turned into prison bitches due to their lack of street skills or prison experience) Watching Oz, you may become comfortable with what is uncomfortable viewing....thats if you can get in touch with your darker side.\"\"\""
      ],
      "execution_count": null,
      "outputs": []
    },
    {
      "cell_type": "code",
      "metadata": {
        "id": "3gd7aBrU6o1E"
      },
      "source": [
        "#Testing the performance of the model\n",
        "rev =  review\n",
        "f1 = clean_text(rev)\n",
        "f2 = is_special(f1)\n",
        "f3 = to_lower(f2)\n",
        "f4 = rem_stopwords(f3)\n",
        "f5 = stem_text(f4)\n",
        "\n",
        "bow,words = [],word_tokenize(f5)\n",
        "for word in words:\n",
        "    bow.append(words.count(word))\n",
        "#np.array(bow).reshape(1,3000)\n",
        "#bow.shape\n",
        "word_dict = counvec.vocabulary_\n",
        "pickle.dump(word_dict,open('bow.pkl','wb'))"
      ],
      "execution_count": null,
      "outputs": []
    },
    {
      "cell_type": "code",
      "metadata": {
        "id": "seSRF-_i68sl"
      },
      "source": [
        "inp = []\n",
        "for i in word_dict:\n",
        "    inp.append(f5.count(i[0]))\n",
        "y_pred = bernou.predict(np.array(inp).reshape(1,1000))"
      ],
      "execution_count": null,
      "outputs": []
    },
    {
      "cell_type": "code",
      "metadata": {
        "colab": {
          "base_uri": "https://localhost:8080/"
        },
        "id": "q98K1wKB7BCX",
        "outputId": "cb28467c-25fe-4876-85c3-be467bad8530"
      },
      "source": [
        "#We are getting 1 as the review contains positive centiment\n",
        "y_pred"
      ],
      "execution_count": null,
      "outputs": [
        {
          "output_type": "execute_result",
          "data": {
            "text/plain": [
              "array([1])"
            ]
          },
          "metadata": {
            "tags": []
          },
          "execution_count": 166
        }
      ]
    },
    {
      "cell_type": "code",
      "metadata": {
        "id": "I1wop7jL7B_T"
      },
      "source": [
        ""
      ],
      "execution_count": null,
      "outputs": []
    }
  ]
}