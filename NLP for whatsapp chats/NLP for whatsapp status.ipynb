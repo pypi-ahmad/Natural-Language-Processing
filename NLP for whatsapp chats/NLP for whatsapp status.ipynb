{
  "nbformat": 4,
  "nbformat_minor": 0,
  "metadata": {
    "colab": {
      "name": "Untitled32.ipynb",
      "provenance": []
    },
    "kernelspec": {
      "name": "python3",
      "display_name": "Python 3"
    },
    "language_info": {
      "name": "python"
    }
  },
  "cells": [
    {
      "cell_type": "code",
      "metadata": {
        "id": "bZY1gh9XcMTy"
      },
      "source": [
        "#Importing pandas and numpy library\n",
        "import numpy as np \n",
        "import pandas as pd"
      ],
      "execution_count": 155,
      "outputs": []
    },
    {
      "cell_type": "code",
      "metadata": {
        "id": "HEBwX7acc5Jg"
      },
      "source": [
        "#Loading the sad happy and angry datasets\n",
        "sad = pd.read_csv('sad.csv')\n",
        "happy= pd.read_csv('happy.csv')\n",
        "angry=pd.read_csv('angry.csv')"
      ],
      "execution_count": 156,
      "outputs": []
    },
    {
      "cell_type": "code",
      "metadata": {
        "colab": {
          "base_uri": "https://localhost:8080/"
        },
        "id": "lomTLNv0dC1v",
        "outputId": "f024d160-eaf5-4039-9e1e-35f63d14a64f"
      },
      "source": [
        "#Finding the shapes of all datas\n",
        "print(\"Happy : \",happy.shape)\n",
        "print(\"Angry : \",angry.shape)\n",
        "print(\"Sad : \",sad.shape)"
      ],
      "execution_count": 157,
      "outputs": [
        {
          "output_type": "stream",
          "text": [
            "Happy :  (708, 2)\n",
            "Angry :  (696, 2)\n",
            "Sad :  (635, 2)\n"
          ],
          "name": "stdout"
        }
      ]
    },
    {
      "cell_type": "code",
      "metadata": {
        "colab": {
          "base_uri": "https://localhost:8080/",
          "height": 111
        },
        "id": "ASJsf5XSd3TW",
        "outputId": "2a1a3cf0-e4b7-4375-8636-dcd55a87bc1f"
      },
      "source": [
        "happy.head(2)"
      ],
      "execution_count": 158,
      "outputs": [
        {
          "output_type": "execute_result",
          "data": {
            "text/html": [
              "<div>\n",
              "<style scoped>\n",
              "    .dataframe tbody tr th:only-of-type {\n",
              "        vertical-align: middle;\n",
              "    }\n",
              "\n",
              "    .dataframe tbody tr th {\n",
              "        vertical-align: top;\n",
              "    }\n",
              "\n",
              "    .dataframe thead th {\n",
              "        text-align: right;\n",
              "    }\n",
              "</style>\n",
              "<table border=\"1\" class=\"dataframe\">\n",
              "  <thead>\n",
              "    <tr style=\"text-align: right;\">\n",
              "      <th></th>\n",
              "      <th>content</th>\n",
              "      <th>sentiment</th>\n",
              "    </tr>\n",
              "  </thead>\n",
              "  <tbody>\n",
              "    <tr>\n",
              "      <th>0</th>\n",
              "      <td>Wants to know how the hell I can remember word...</td>\n",
              "      <td>happy</td>\n",
              "    </tr>\n",
              "    <tr>\n",
              "      <th>1</th>\n",
              "      <td>Love is a long sweet dream &amp; marriage is an al...</td>\n",
              "      <td>happy</td>\n",
              "    </tr>\n",
              "  </tbody>\n",
              "</table>\n",
              "</div>"
            ],
            "text/plain": [
              "                                             content sentiment\n",
              "0  Wants to know how the hell I can remember word...     happy\n",
              "1  Love is a long sweet dream & marriage is an al...     happy"
            ]
          },
          "metadata": {
            "tags": []
          },
          "execution_count": 158
        }
      ]
    },
    {
      "cell_type": "code",
      "metadata": {
        "colab": {
          "base_uri": "https://localhost:8080/",
          "height": 111
        },
        "id": "4mg-QVdPeCX2",
        "outputId": "dd21a1ed-283f-440e-827d-ab9bae9e2029"
      },
      "source": [
        "angry.head(2)"
      ],
      "execution_count": 159,
      "outputs": [
        {
          "output_type": "execute_result",
          "data": {
            "text/html": [
              "<div>\n",
              "<style scoped>\n",
              "    .dataframe tbody tr th:only-of-type {\n",
              "        vertical-align: middle;\n",
              "    }\n",
              "\n",
              "    .dataframe tbody tr th {\n",
              "        vertical-align: top;\n",
              "    }\n",
              "\n",
              "    .dataframe thead th {\n",
              "        text-align: right;\n",
              "    }\n",
              "</style>\n",
              "<table border=\"1\" class=\"dataframe\">\n",
              "  <thead>\n",
              "    <tr style=\"text-align: right;\">\n",
              "      <th></th>\n",
              "      <th>content</th>\n",
              "      <th>sentiment</th>\n",
              "    </tr>\n",
              "  </thead>\n",
              "  <tbody>\n",
              "    <tr>\n",
              "      <th>0</th>\n",
              "      <td>Sometimes I’m not angry, I’m hurt and there’s ...</td>\n",
              "      <td>angry</td>\n",
              "    </tr>\n",
              "    <tr>\n",
              "      <th>1</th>\n",
              "      <td>Not available for busy people☺</td>\n",
              "      <td>angry</td>\n",
              "    </tr>\n",
              "  </tbody>\n",
              "</table>\n",
              "</div>"
            ],
            "text/plain": [
              "                                             content sentiment\n",
              "0  Sometimes I’m not angry, I’m hurt and there’s ...     angry\n",
              "1                     Not available for busy people☺     angry"
            ]
          },
          "metadata": {
            "tags": []
          },
          "execution_count": 159
        }
      ]
    },
    {
      "cell_type": "code",
      "metadata": {
        "colab": {
          "base_uri": "https://localhost:8080/",
          "height": 111
        },
        "id": "RSV3SMRqeIwW",
        "outputId": "9e9d1d13-661e-46df-d3e7-b281a9c0c8bf"
      },
      "source": [
        "sad.head(2)"
      ],
      "execution_count": 160,
      "outputs": [
        {
          "output_type": "execute_result",
          "data": {
            "text/html": [
              "<div>\n",
              "<style scoped>\n",
              "    .dataframe tbody tr th:only-of-type {\n",
              "        vertical-align: middle;\n",
              "    }\n",
              "\n",
              "    .dataframe tbody tr th {\n",
              "        vertical-align: top;\n",
              "    }\n",
              "\n",
              "    .dataframe thead th {\n",
              "        text-align: right;\n",
              "    }\n",
              "</style>\n",
              "<table border=\"1\" class=\"dataframe\">\n",
              "  <thead>\n",
              "    <tr style=\"text-align: right;\">\n",
              "      <th></th>\n",
              "      <th>content</th>\n",
              "      <th>sentiment</th>\n",
              "    </tr>\n",
              "  </thead>\n",
              "  <tbody>\n",
              "    <tr>\n",
              "      <th>0</th>\n",
              "      <td>Never hurt people who love you a lot, because ...</td>\n",
              "      <td>sad</td>\n",
              "    </tr>\n",
              "    <tr>\n",
              "      <th>1</th>\n",
              "      <td>Don’t expect me to tell you what you did wrong...</td>\n",
              "      <td>sad</td>\n",
              "    </tr>\n",
              "  </tbody>\n",
              "</table>\n",
              "</div>"
            ],
            "text/plain": [
              "                                             content sentiment\n",
              "0  Never hurt people who love you a lot, because ...       sad\n",
              "1  Don’t expect me to tell you what you did wrong...       sad"
            ]
          },
          "metadata": {
            "tags": []
          },
          "execution_count": 160
        }
      ]
    },
    {
      "cell_type": "code",
      "metadata": {
        "id": "FCqs84WKeJ28"
      },
      "source": [
        "#Dropping the duplicates from all the datas\n",
        "happy = happy.drop_duplicates(subset='content', keep=\"first\")\n",
        "angry = angry.drop_duplicates(subset='content', keep=\"first\")\n",
        "sad = sad.drop_duplicates(subset='content', keep=\"first\")"
      ],
      "execution_count": 161,
      "outputs": []
    },
    {
      "cell_type": "code",
      "metadata": {
        "id": "OZ6qukQbecEF"
      },
      "source": [
        "#Concatenating the three datas in to df\n",
        "frames = [sad, happy, angry]\n",
        "df = pd.concat(frames)"
      ],
      "execution_count": 162,
      "outputs": []
    },
    {
      "cell_type": "code",
      "metadata": {
        "colab": {
          "base_uri": "https://localhost:8080/",
          "height": 142
        },
        "id": "y-pzgU5tegGH",
        "outputId": "12592a75-94ef-42a4-d2da-2bb0937c4695"
      },
      "source": [
        "#Displaying the concatenated dataframe\n",
        "df.head(3)"
      ],
      "execution_count": 163,
      "outputs": [
        {
          "output_type": "execute_result",
          "data": {
            "text/html": [
              "<div>\n",
              "<style scoped>\n",
              "    .dataframe tbody tr th:only-of-type {\n",
              "        vertical-align: middle;\n",
              "    }\n",
              "\n",
              "    .dataframe tbody tr th {\n",
              "        vertical-align: top;\n",
              "    }\n",
              "\n",
              "    .dataframe thead th {\n",
              "        text-align: right;\n",
              "    }\n",
              "</style>\n",
              "<table border=\"1\" class=\"dataframe\">\n",
              "  <thead>\n",
              "    <tr style=\"text-align: right;\">\n",
              "      <th></th>\n",
              "      <th>content</th>\n",
              "      <th>sentiment</th>\n",
              "    </tr>\n",
              "  </thead>\n",
              "  <tbody>\n",
              "    <tr>\n",
              "      <th>0</th>\n",
              "      <td>Never hurt people who love you a lot, because ...</td>\n",
              "      <td>sad</td>\n",
              "    </tr>\n",
              "    <tr>\n",
              "      <th>1</th>\n",
              "      <td>Don’t expect me to tell you what you did wrong...</td>\n",
              "      <td>sad</td>\n",
              "    </tr>\n",
              "    <tr>\n",
              "      <th>2</th>\n",
              "      <td>I preferred walking away than fighting for you...</td>\n",
              "      <td>sad</td>\n",
              "    </tr>\n",
              "  </tbody>\n",
              "</table>\n",
              "</div>"
            ],
            "text/plain": [
              "                                             content sentiment\n",
              "0  Never hurt people who love you a lot, because ...       sad\n",
              "1  Don’t expect me to tell you what you did wrong...       sad\n",
              "2  I preferred walking away than fighting for you...       sad"
            ]
          },
          "metadata": {
            "tags": []
          },
          "execution_count": 163
        }
      ]
    },
    {
      "cell_type": "code",
      "metadata": {
        "colab": {
          "base_uri": "https://localhost:8080/"
        },
        "id": "-myPls8RegvO",
        "outputId": "6a672a3b-149b-49cb-b11e-82bcbdd47d14"
      },
      "source": [
        "#Looking for the info of df\n",
        "df.info()"
      ],
      "execution_count": 164,
      "outputs": [
        {
          "output_type": "stream",
          "text": [
            "<class 'pandas.core.frame.DataFrame'>\n",
            "Int64Index: 1592 entries, 0 to 694\n",
            "Data columns (total 2 columns):\n",
            " #   Column     Non-Null Count  Dtype \n",
            "---  ------     --------------  ----- \n",
            " 0   content    1592 non-null   object\n",
            " 1   sentiment  1592 non-null   object\n",
            "dtypes: object(2)\n",
            "memory usage: 37.3+ KB\n"
          ],
          "name": "stdout"
        }
      ]
    },
    {
      "cell_type": "code",
      "metadata": {
        "id": "tVYCrrmGe7Ob"
      },
      "source": [
        "#Dropping the duplicates\n",
        "df = df.drop_duplicates(subset='content', keep=\"first\")"
      ],
      "execution_count": 165,
      "outputs": []
    },
    {
      "cell_type": "code",
      "metadata": {
        "colab": {
          "base_uri": "https://localhost:8080/"
        },
        "id": "LPMz-cMsfK6F",
        "outputId": "1f01c9fd-eba5-4cd2-c5a5-93b4afa48e7f"
      },
      "source": [
        "#Checking for count on each unique item\n",
        "df['sentiment'].value_counts()"
      ],
      "execution_count": 166,
      "outputs": [
        {
          "output_type": "execute_result",
          "data": {
            "text/plain": [
              "happy    702\n",
              "angry    494\n",
              "sad      390\n",
              "Name: sentiment, dtype: int64"
            ]
          },
          "metadata": {
            "tags": []
          },
          "execution_count": 166
        }
      ]
    },
    {
      "cell_type": "code",
      "metadata": {
        "id": "H_tG3ojEfNrP"
      },
      "source": [
        "#replacing the categorical values\n",
        "df['sentiment'].replace({'happy':1,'angry':0,'sad':2},inplace=True)"
      ],
      "execution_count": 167,
      "outputs": []
    },
    {
      "cell_type": "code",
      "metadata": {
        "colab": {
          "base_uri": "https://localhost:8080/"
        },
        "id": "uLYmHUx3fXuC",
        "outputId": "e2fcc99c-fb0e-41b2-ea7a-812fc386e619"
      },
      "source": [
        "#Categorical converted to numerial\n",
        "df['sentiment'].value_counts()"
      ],
      "execution_count": 168,
      "outputs": [
        {
          "output_type": "execute_result",
          "data": {
            "text/plain": [
              "1    702\n",
              "0    494\n",
              "2    390\n",
              "Name: sentiment, dtype: int64"
            ]
          },
          "metadata": {
            "tags": []
          },
          "execution_count": 168
        }
      ]
    },
    {
      "cell_type": "code",
      "metadata": {
        "id": "yHHaJQq9ffQf"
      },
      "source": [
        "import re\n",
        "#Defining function to clean the html tag from text\n",
        "def html(text):\n",
        "    clean = re.compile('<.*?>')\n",
        "    return re.sub(clean, '',text)\n",
        "df['content']=df['content'].apply(html)"
      ],
      "execution_count": 169,
      "outputs": []
    },
    {
      "cell_type": "code",
      "metadata": {
        "id": "Lj5Vd-1Qfsn1"
      },
      "source": [
        "## Defining function to convert to lower case\n",
        "def lower(text):\n",
        "    return text.lower()\n",
        "df['content']=df['content'].apply(lower)"
      ],
      "execution_count": 170,
      "outputs": []
    },
    {
      "cell_type": "code",
      "metadata": {
        "id": "VnWLPI-0fwvN"
      },
      "source": [
        "#defining Function to remove special characters\n",
        "def special(text):\n",
        "        x=''\n",
        "        for i in text:\n",
        "            if i.isalnum():\n",
        "                x=x+i\n",
        "            else:\n",
        "                x=x+' '\n",
        "        return x\n",
        "df['content']=df['content'].apply(special)"
      ],
      "execution_count": 171,
      "outputs": []
    },
    {
      "cell_type": "code",
      "metadata": {
        "colab": {
          "base_uri": "https://localhost:8080/"
        },
        "id": "sdjbmFW0klJF",
        "outputId": "9452aacc-ec76-4fe9-b00b-5274037a2f6a"
      },
      "source": [
        "#Importing NLTK library\n",
        "import nltk\n",
        "from nltk.corpus import stopwords\n",
        "nltk.download('stopwords')\n",
        "import nltk\n",
        "from nltk.stem.porter import PorterStemmer"
      ],
      "execution_count": 172,
      "outputs": [
        {
          "output_type": "stream",
          "text": [
            "[nltk_data] Downloading package stopwords to /root/nltk_data...\n",
            "[nltk_data]   Package stopwords is already up-to-date!\n"
          ],
          "name": "stdout"
        }
      ]
    },
    {
      "cell_type": "code",
      "metadata": {
        "id": "St1fDbcAfzst"
      },
      "source": [
        "#defining function to remove stopwords using nltk library\n",
        "def r_stopwords(text):\n",
        "    x=[]\n",
        "    for i in text.split():\n",
        "        \n",
        "        if i not in stopwords.words('english'):\n",
        "            x.append(i)\n",
        "    y=x[:]\n",
        "    x.clear()\n",
        "    return y\n",
        "df['content']=df['content'].apply(r_stopwords)"
      ],
      "execution_count": 173,
      "outputs": []
    },
    {
      "cell_type": "code",
      "metadata": {
        "id": "mZFoYFqff5GA"
      },
      "source": [
        "#Defining function to join back the list of elements\n",
        "def join_back(list_input):\n",
        "    return \" \".join(list_input)\n",
        "df['content']=df['content'].apply(join_back)"
      ],
      "execution_count": 174,
      "outputs": []
    },
    {
      "cell_type": "code",
      "metadata": {
        "id": "Kk-cPdbFf7o8"
      },
      "source": [
        "#instantiation of portstemmer\n",
        "ps= PorterStemmer()\n",
        "y=[]\n",
        "#Defining function to stemming the words\n",
        "def stem_words(text):\n",
        "    for i in text:\n",
        "        y.append(ps.stem(i))\n",
        "    z=y[:]\n",
        "    y.clear()\n",
        "    return z\n",
        "df['content']=df['content'].apply(stem_words)"
      ],
      "execution_count": 175,
      "outputs": []
    },
    {
      "cell_type": "code",
      "metadata": {
        "id": "BkGEgloqgB5N"
      },
      "source": [
        "#Defining a joinback function to join the items\n",
        "def joinback2(list_input):\n",
        "    return \"\".join(list_input)\n",
        "df['content']=df['content'].apply(joinback2)"
      ],
      "execution_count": 176,
      "outputs": []
    },
    {
      "cell_type": "code",
      "metadata": {
        "colab": {
          "base_uri": "https://localhost:8080/",
          "height": 419
        },
        "id": "3YqlYWRJgFlB",
        "outputId": "d5fa3d2c-d7d8-4b37-b34b-f5411cc79ea3"
      },
      "source": [
        "df"
      ],
      "execution_count": 190,
      "outputs": [
        {
          "output_type": "execute_result",
          "data": {
            "text/html": [
              "<div>\n",
              "<style scoped>\n",
              "    .dataframe tbody tr th:only-of-type {\n",
              "        vertical-align: middle;\n",
              "    }\n",
              "\n",
              "    .dataframe tbody tr th {\n",
              "        vertical-align: top;\n",
              "    }\n",
              "\n",
              "    .dataframe thead th {\n",
              "        text-align: right;\n",
              "    }\n",
              "</style>\n",
              "<table border=\"1\" class=\"dataframe\">\n",
              "  <thead>\n",
              "    <tr style=\"text-align: right;\">\n",
              "      <th></th>\n",
              "      <th>content</th>\n",
              "      <th>sentiment</th>\n",
              "    </tr>\n",
              "  </thead>\n",
              "  <tbody>\n",
              "    <tr>\n",
              "      <th>0</th>\n",
              "      <td>never hurt people love lot hurt back probably ...</td>\n",
              "      <td>2</td>\n",
              "    </tr>\n",
              "    <tr>\n",
              "      <th>1</th>\n",
              "      <td>expect tell wrong figure ready correct cos kno...</td>\n",
              "      <td>2</td>\n",
              "    </tr>\n",
              "    <tr>\n",
              "      <th>2</th>\n",
              "      <td>preferred walking away fighting worth fighting...</td>\n",
              "      <td>2</td>\n",
              "    </tr>\n",
              "    <tr>\n",
              "      <th>3</th>\n",
              "      <td>moving forward life hard part leaving behind s...</td>\n",
              "      <td>2</td>\n",
              "    </tr>\n",
              "    <tr>\n",
              "      <th>4</th>\n",
              "      <td>never cry anyone life cry deserve tears deserv...</td>\n",
              "      <td>2</td>\n",
              "    </tr>\n",
              "    <tr>\n",
              "      <th>...</th>\n",
              "      <td>...</td>\n",
              "      <td>...</td>\n",
              "    </tr>\n",
              "    <tr>\n",
              "      <th>681</th>\n",
              "      <td>embarrassment anger biggest humiliation person...</td>\n",
              "      <td>0</td>\n",
              "    </tr>\n",
              "    <tr>\n",
              "      <th>685</th>\n",
              "      <td>strong man good wrestler strong man one contro...</td>\n",
              "      <td>0</td>\n",
              "    </tr>\n",
              "    <tr>\n",
              "      <th>687</th>\n",
              "      <td>man big things make angry</td>\n",
              "      <td>0</td>\n",
              "    </tr>\n",
              "    <tr>\n",
              "      <th>693</th>\n",
              "      <td>singing angry know punches face</td>\n",
              "      <td>0</td>\n",
              "    </tr>\n",
              "    <tr>\n",
              "      <th>694</th>\n",
              "      <td>telling someone calm makes much angrier</td>\n",
              "      <td>0</td>\n",
              "    </tr>\n",
              "  </tbody>\n",
              "</table>\n",
              "<p>1586 rows × 2 columns</p>\n",
              "</div>"
            ],
            "text/plain": [
              "                                               content  sentiment\n",
              "0    never hurt people love lot hurt back probably ...          2\n",
              "1    expect tell wrong figure ready correct cos kno...          2\n",
              "2    preferred walking away fighting worth fighting...          2\n",
              "3    moving forward life hard part leaving behind s...          2\n",
              "4    never cry anyone life cry deserve tears deserv...          2\n",
              "..                                                 ...        ...\n",
              "681  embarrassment anger biggest humiliation person...          0\n",
              "685  strong man good wrestler strong man one contro...          0\n",
              "687                          man big things make angry          0\n",
              "693                    singing angry know punches face          0\n",
              "694            telling someone calm makes much angrier          0\n",
              "\n",
              "[1586 rows x 2 columns]"
            ]
          },
          "metadata": {
            "tags": []
          },
          "execution_count": 190
        }
      ]
    },
    {
      "cell_type": "code",
      "metadata": {
        "id": "ldVqMQjXgJGE"
      },
      "source": [
        "#Storing the content in the X variable\n",
        "X=df['content']"
      ],
      "execution_count": 191,
      "outputs": []
    },
    {
      "cell_type": "code",
      "metadata": {
        "id": "HVHuP-zXh3NV"
      },
      "source": [
        "y=df.iloc[:,-1].values"
      ],
      "execution_count": 192,
      "outputs": []
    },
    {
      "cell_type": "code",
      "metadata": {
        "id": "vdkF_298gLyJ"
      },
      "source": [
        "#Importing train test split from sklearn and splitting the training and testing data\n",
        "from sklearn.model_selection import train_test_split\n",
        "X_train, X_test, y_train,y_test = train_test_split(X,y,test_size=0.3) "
      ],
      "execution_count": 193,
      "outputs": []
    },
    {
      "cell_type": "code",
      "metadata": {
        "id": "k--8-qDYh4uL"
      },
      "source": [
        "#Imporing countervectorized from sklearn\n",
        "from sklearn.feature_extraction.text import CountVectorizer\n",
        "cv=CountVectorizer(max_features=1500)"
      ],
      "execution_count": 194,
      "outputs": []
    },
    {
      "cell_type": "code",
      "metadata": {
        "id": "oIDGeywEh7au"
      },
      "source": [
        "#Fitting the data to the model\n",
        "X_train = cv.fit_transform(X_train).toarray()\n",
        "X_test=cv.transform(X_test).toarray()"
      ],
      "execution_count": 195,
      "outputs": []
    },
    {
      "cell_type": "code",
      "metadata": {
        "id": "rMkNOyLsh_Ac"
      },
      "source": [
        "#We are importing multinominalNB model from sklearn \n",
        "from sklearn.naive_bayes import MultinomialNB\n",
        "model=MultinomialNB()"
      ],
      "execution_count": 201,
      "outputs": []
    },
    {
      "cell_type": "code",
      "metadata": {
        "colab": {
          "base_uri": "https://localhost:8080/"
        },
        "id": "AsIC40x2iCLG",
        "outputId": "ccc530c4-2dd2-4f86-a441-251c49c67446"
      },
      "source": [
        "#Training our model\n",
        "model.fit(X_train,y_train)"
      ],
      "execution_count": 202,
      "outputs": [
        {
          "output_type": "execute_result",
          "data": {
            "text/plain": [
              "MultinomialNB(alpha=1.0, class_prior=None, fit_prior=True)"
            ]
          },
          "metadata": {
            "tags": []
          },
          "execution_count": 202
        }
      ]
    },
    {
      "cell_type": "code",
      "metadata": {
        "id": "jWUaikUgiCfu"
      },
      "source": [
        "#Predicting the output for testing data\n",
        "y_pred2=model.predict(X_test)"
      ],
      "execution_count": 203,
      "outputs": []
    },
    {
      "cell_type": "code",
      "metadata": {
        "colab": {
          "base_uri": "https://localhost:8080/"
        },
        "id": "6vQIPjofiEaq",
        "outputId": "f2585599-0276-432e-895f-247d9124e8e8"
      },
      "source": [
        "#importing accuracy score from sklearn\n",
        "from sklearn.metrics import accuracy_score\n",
        "#Printing the accuracy score for multimonal naivebayes model\n",
        "print(\"Multinomial\",accuracy_score(y_test,y_pred2))\n"
      ],
      "execution_count": 204,
      "outputs": [
        {
          "output_type": "stream",
          "text": [
            "Multinomial 0.6932773109243697\n"
          ],
          "name": "stdout"
        }
      ]
    },
    {
      "cell_type": "code",
      "metadata": {
        "id": "ojQ5pwK5iJVr"
      },
      "source": [
        "#testing the data for a sentence\n",
        "test=\"i am sad & depressed too\""
      ],
      "execution_count": 207,
      "outputs": []
    },
    {
      "cell_type": "code",
      "metadata": {
        "id": "w_qumhA_iKeK"
      },
      "source": [
        "test = np.array([test])\n",
        "test = cv.transform(test)"
      ],
      "execution_count": 208,
      "outputs": []
    },
    {
      "cell_type": "code",
      "metadata": {
        "colab": {
          "base_uri": "https://localhost:8080/"
        },
        "id": "nbAilWmriM1m",
        "outputId": "6858c4c3-f6a1-4849-acc2-c70fbf4b8c37"
      },
      "source": [
        "#Here 2 implicates the Sad \n",
        "model.predict(test)"
      ],
      "execution_count": 209,
      "outputs": [
        {
          "output_type": "execute_result",
          "data": {
            "text/plain": [
              "array([2])"
            ]
          },
          "metadata": {
            "tags": []
          },
          "execution_count": 209
        }
      ]
    }
  ]
}